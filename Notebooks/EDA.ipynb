{
 "cells": [
  {
   "cell_type": "markdown",
   "id": "e052c6cf",
   "metadata": {},
   "source": [
    "### Desarrollo Proyecto sprint 7"
   ]
  },
  {
   "cell_type": "markdown",
   "id": "29b2294b",
   "metadata": {},
   "source": [
    "En primer lugar haré la instalación de todas las librerías necesarias para el desarrollo de este proyecto:"
   ]
  },
  {
   "cell_type": "code",
   "execution_count": 2,
   "id": "89bc1e69",
   "metadata": {},
   "outputs": [],
   "source": [
    "#Librerías necesarias\n",
    "import pandas as pd\n",
    "import plotly as pl\n",
    "import streamlit as st\n",
    "import numpy as np\n",
    "import seaborn as sns\n",
    "import math\n",
    "from scipy import stats as st"
   ]
  },
  {
   "cell_type": "code",
   "execution_count": 3,
   "id": "0ecc8897",
   "metadata": {},
   "outputs": [],
   "source": [
    "df = pd.read_csv('../vehicles_us.csv')"
   ]
  },
  {
   "cell_type": "code",
   "execution_count": 8,
   "id": "34eaefe7",
   "metadata": {},
   "outputs": [
    {
     "name": "stdout",
     "output_type": "stream",
     "text": [
      "   price  model_year           model  condition  cylinders fuel  odometer  \\\n",
      "0   9400      2011.0          bmw x5       good        6.0  gas  145000.0   \n",
      "1  25500         NaN      ford f-150       good        6.0  gas   88705.0   \n",
      "2   5500      2013.0  hyundai sonata   like new        4.0  gas  110000.0   \n",
      "3   1500      2003.0      ford f-150       fair        8.0  gas       NaN   \n",
      "4  14900      2017.0    chrysler 200  excellent        4.0  gas   80903.0   \n",
      "5  14990      2014.0    chrysler 300  excellent        6.0  gas   57954.0   \n",
      "6  12990      2015.0    toyota camry  excellent        4.0  gas   79212.0   \n",
      "7  15990      2013.0     honda pilot  excellent        6.0  gas  109473.0   \n",
      "8  11500      2012.0     kia sorento  excellent        4.0  gas  104174.0   \n",
      "9   9200      2008.0     honda pilot  excellent        NaN  gas  147191.0   \n",
      "\n",
      "  transmission    type paint_color  is_4wd date_posted  days_listed  \n",
      "0    automatic     SUV         NaN     1.0  2018-06-23           19  \n",
      "1    automatic  pickup       white     1.0  2018-10-19           50  \n",
      "2    automatic   sedan         red     NaN  2019-02-07           79  \n",
      "3    automatic  pickup         NaN     NaN  2019-03-22            9  \n",
      "4    automatic   sedan       black     NaN  2019-04-02           28  \n",
      "5    automatic   sedan       black     1.0  2018-06-20           15  \n",
      "6    automatic   sedan       white     NaN  2018-12-27           73  \n",
      "7    automatic     SUV       black     1.0  2019-01-07           68  \n",
      "8    automatic     SUV         NaN     1.0  2018-07-16           19  \n",
      "9    automatic     SUV        blue     1.0  2019-02-15           17  \n",
      "\n",
      "<class 'pandas.core.frame.DataFrame'>\n",
      "RangeIndex: 51525 entries, 0 to 51524\n",
      "Data columns (total 13 columns):\n",
      " #   Column        Non-Null Count  Dtype  \n",
      "---  ------        --------------  -----  \n",
      " 0   price         51525 non-null  int64  \n",
      " 1   model_year    47906 non-null  float64\n",
      " 2   model         51525 non-null  object \n",
      " 3   condition     51525 non-null  object \n",
      " 4   cylinders     46265 non-null  float64\n",
      " 5   fuel          51525 non-null  object \n",
      " 6   odometer      43633 non-null  float64\n",
      " 7   transmission  51525 non-null  object \n",
      " 8   type          51525 non-null  object \n",
      " 9   paint_color   42258 non-null  object \n",
      " 10  is_4wd        25572 non-null  float64\n",
      " 11  date_posted   51525 non-null  object \n",
      " 12  days_listed   51525 non-null  int64  \n",
      "dtypes: float64(4), int64(2), object(7)\n",
      "memory usage: 5.1+ MB\n"
     ]
    }
   ],
   "source": [
    "print(df.head(10))\n",
    "print()\n",
    "df.info()"
   ]
  },
  {
   "cell_type": "markdown",
   "id": "6996e02f",
   "metadata": {},
   "source": [
    "## Observaciónes de los datos hasta el momento\n",
    "\n",
    "- **model_year:** Por un lado los valores estan en formato float, esto debe corregirse a enteros. luego, Hay bastantes datos que no estan presentes, sin embargo considero que podría ser una buena opción revisar el valor máximo y mínimo que existe en esta columna, hallar el promedio y la media de los datos y de este modo poder reemplazar los valores ausentes con el valor de la media si son números relativamente cercanos.  \n",
    "\n",
    "- **cylinders:** Por un lado los valores estan en formato float, esto debe corregirse a enteros. Esta variable es bastante importante ya que está directamente relacionada con la potencia del motor, su precio y el consumo de combustible. Y ya que hacen falta tantos datos en ella, creo que lo mejor es reemplazar los NaN por la palabra \"desconocido\", de este modo no elimino todas estas filas que representarían casi el 10% del Dataset (5260 filas incompletas).\n",
    "\n",
    "- **odometer:** La distancia recorrida por el vehiculo medido en millas, en este caso, para realizar el tratamiento de los datos podría al igual que en el caso de **model_year** determinar sus valores máximo y mínimo y hallar la media y mediana de los datos. y usar este valor para completar el dataset.\n",
    "aquí hacen falta (51525-43633=7892 filas vacias), por lo cual eliminarlas equivaldría a perder al rededor del 15% de los datos.\n",
    "\n",
    "- **paint_color:** Los valores ausentes en la columna del color del coche los modificaré para colocar \"Desconocido\"\n",
    "\n",
    "- **is_4wd:** Es una columna que muestra datos binarios 0 y 1, 1 para decir que Sí y 0 para No.,pero en su lugar no hay 0 si no valores ausentes NaN.\n",
    "En este caso la correción estaría en modificar ambos valores para hacerla un poco más explicita, podría colocar en lugar del 1: \"Tiene tracción en las 4 Ruedas\" y en lugar del 0: \"Tiene tracción trasera\""
   ]
  },
  {
   "cell_type": "markdown",
   "id": "6137e8ca",
   "metadata": {},
   "source": [
    "## Tratamiento de los datos:"
   ]
  },
  {
   "cell_type": "markdown",
   "id": "9c1d63f9",
   "metadata": {},
   "source": [
    "**Columna model_year:**"
   ]
  },
  {
   "cell_type": "code",
   "execution_count": null,
   "id": "2b85da79",
   "metadata": {},
   "outputs": [
    {
     "name": "stdout",
     "output_type": "stream",
     "text": [
      "El valor máximo en la columna model_year es: 2019\n",
      "El valor mínimo en la columna model_year es: 1908\n",
      "La media en la columna model_year es: 2009.7679961183892\n",
      "La mediana en la columna model_year es: 2010.0\n",
      "\n",
      "los valores ausentes en la columna model_year son: 0\n"
     ]
    }
   ],
   "source": [
    "#1. Hallar valores máximo, minimo, media y mediana.\n",
    "print('El valor máximo en la columna model_year es:',df['model_year'].max())\n",
    "print('El valor mínimo en la columna model_year es:',df['model_year'].min())\n",
    "print('La media en la columna model_year es:',df['model_year'].mean())\n",
    "print('La mediana en la columna model_year es:',df['model_year'].median())\n",
    "print()\n",
    "#cuento los valores ausentes\n",
    "print('los valores ausentes en la columna model_year son:', df['model_year'].isnull().sum())"
   ]
  },
  {
   "cell_type": "markdown",
   "id": "0318b153",
   "metadata": {},
   "source": [
    "**Observación:** Ya que los datos de la media y la mediana son muy cercanos, escogeré 2010 para el valor de los Nan."
   ]
  },
  {
   "cell_type": "code",
   "execution_count": 18,
   "id": "0d942a8f",
   "metadata": {},
   "outputs": [
    {
     "name": "stdout",
     "output_type": "stream",
     "text": [
      "los valores ausentes en la columna model_year son: 0\n"
     ]
    }
   ],
   "source": [
    "#2. Rellenar los valores NaN con la media o mediana.\n",
    "df['model_year'] = df['model_year'].fillna(2010)\n",
    "\n",
    "#3. Cambio de float a int\n",
    "df['model_year'] = df['model_year'].astype(int)\n",
    "\n",
    "#cuento los valores ausentes\n",
    "print('los valores ausentes en la columna model_year son:', df['model_year'].isnull().sum())"
   ]
  },
  {
   "cell_type": "markdown",
   "id": "79f01c3e",
   "metadata": {},
   "source": [
    "**Columna cylinders:**"
   ]
  },
  {
   "cell_type": "code",
   "execution_count": null,
   "id": "a610f34a",
   "metadata": {},
   "outputs": [
    {
     "name": "stdout",
     "output_type": "stream",
     "text": [
      "los valores ausentes en la columna cylinder son: 0\n"
     ]
    }
   ],
   "source": [
    "df.columns\n",
    "#1. Rellenar los valores NaN con \"Desconocido\"\n",
    "df['cylinders'] = df['cylinders'].fillna('Desconocido')\n",
    "\n",
    "#cuento los valores ausentes\n",
    "print('los valores ausentes en la columna cylinders son:', df['cylinders'].isnull().sum())"
   ]
  },
  {
   "cell_type": "markdown",
   "id": "cbba61b8",
   "metadata": {},
   "source": [
    "**Columna odometer:** "
   ]
  },
  {
   "cell_type": "code",
   "execution_count": 29,
   "id": "f7d4ff32",
   "metadata": {},
   "outputs": [
    {
     "name": "stdout",
     "output_type": "stream",
     "text": [
      "El valor máximo en la columna odometer es: 990000.0\n",
      "El valor mínimo en la columna odometer es: 0.0\n",
      "La media en la columna odometer es: 115553.4617376756\n",
      "La mediana en la columna odometer es: 113000.0\n",
      "\n",
      "los valores ausentes en la columna odometer son: 7892\n"
     ]
    }
   ],
   "source": [
    "#1. Hallar valores máximo, minimo, media y mediana.\n",
    "print('El valor máximo en la columna odometer es:',df['odometer'].max())\n",
    "print('El valor mínimo en la columna odometer es:',df['odometer'].min())\n",
    "print('La media en la columna odometer es:',df['odometer'].mean())\n",
    "print('La mediana en la columna odometer es:',df['odometer'].median())\n",
    "print()\n",
    "#cuento los valores ausentes\n",
    "print('los valores ausentes en la columna odometer son:', df['odometer'].isnull().sum())"
   ]
  },
  {
   "cell_type": "markdown",
   "id": "032798c1",
   "metadata": {},
   "source": [
    "**Observación:** Ya que los datos de la media y la mediana son muy cercanos, escogeré 113000 para el valor de los Nan."
   ]
  },
  {
   "cell_type": "code",
   "execution_count": 30,
   "id": "5640ad59",
   "metadata": {},
   "outputs": [
    {
     "name": "stdout",
     "output_type": "stream",
     "text": [
      "los valores ausentes en la columna odometer son: 0\n"
     ]
    }
   ],
   "source": [
    "#2. Rellenar los valores NaN con la mediana.\n",
    "df['odometer'] =df['odometer'].fillna(113000)\n",
    "\n",
    "#cuento los valores ausentes\n",
    "print('los valores ausentes en la columna odometer son:', df['odometer'].isnull().sum())"
   ]
  },
  {
   "cell_type": "markdown",
   "id": "d02082bc",
   "metadata": {},
   "source": [
    "**Columna paint_color:** "
   ]
  },
  {
   "cell_type": "code",
   "execution_count": 31,
   "id": "998b922c",
   "metadata": {},
   "outputs": [
    {
     "name": "stdout",
     "output_type": "stream",
     "text": [
      "los valores ausentes en la columna paint_color son: 0\n"
     ]
    }
   ],
   "source": [
    "#Reemplazo los valores NaN con \"Desconocido\" en la columna paint_color\n",
    "df['paint_color'] = df['paint_color'].fillna('Desconocido')\n",
    "\n",
    "#cuento los valores ausentes\n",
    "print('los valores ausentes en la columna paint_color son:', df['paint_color'].isnull().sum())"
   ]
  },
  {
   "cell_type": "markdown",
   "id": "796a3f0f",
   "metadata": {},
   "source": [
    "**Columna is_4wd:**"
   ]
  },
  {
   "cell_type": "code",
   "execution_count": 37,
   "id": "3cab0a19",
   "metadata": {},
   "outputs": [
    {
     "name": "stdout",
     "output_type": "stream",
     "text": [
      "los valores ausentes en la columna is_4wd son: 0\n",
      "\n",
      "0        Tiene tracción 4x4\n",
      "1        Tiene tracción 4x4\n",
      "2    Tiene tracción trasera\n",
      "3    Tiene tracción trasera\n",
      "4    Tiene tracción trasera\n",
      "Name: is_4wd, dtype: object\n",
      "51520    Tiene tracción trasera\n",
      "51521    Tiene tracción trasera\n",
      "51522    Tiene tracción trasera\n",
      "51523    Tiene tracción trasera\n",
      "51524    Tiene tracción trasera\n",
      "Name: is_4wd, dtype: object\n"
     ]
    }
   ],
   "source": [
    "#Reemplazo los valores NaN con \"Tiene tracción trasera\" en la columna is_4wd\n",
    "df['is_4wd'] = df['is_4wd'].fillna('Tiene tracción trasera')\n",
    "#Reemplazo los valores 1.0 con \"Tiene tracción 4x4\" en la columna is_4wd\n",
    "df['is_4wd'] = df['is_4wd'].replace(1.0, 'Tiene tracción 4x4')\n",
    "\n",
    "#cuento los valores ausentes\n",
    "print('los valores ausentes en la columna is_4wd son:', df['is_4wd'].isnull().sum())\n",
    "print()\n",
    "print(df['is_4wd'].head())\n",
    "print(df['is_4wd'].tail())"
   ]
  }
 ],
 "metadata": {
  "kernelspec": {
   "display_name": "base",
   "language": "python",
   "name": "python3"
  },
  "language_info": {
   "codemirror_mode": {
    "name": "ipython",
    "version": 3
   },
   "file_extension": ".py",
   "mimetype": "text/x-python",
   "name": "python",
   "nbconvert_exporter": "python",
   "pygments_lexer": "ipython3",
   "version": "3.13.5"
  }
 },
 "nbformat": 4,
 "nbformat_minor": 5
}
